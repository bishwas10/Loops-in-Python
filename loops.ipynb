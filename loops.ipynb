{
 "cells": [
  {
   "cell_type": "markdown",
   "id": "891ec8f8-2ae1-4676-abb1-169af12a35fe",
   "metadata": {},
   "source": [
    "For loops"
   ]
  },
  {
   "cell_type": "code",
   "execution_count": 4,
   "id": "f3c4f5ca-7bda-478a-837a-707491a32b1d",
   "metadata": {},
   "outputs": [
    {
     "name": "stdout",
     "output_type": "stream",
     "text": [
      "S i m p l i l e a r n "
     ]
    }
   ],
   "source": [
    "s = \"Simplilearn\"\n",
    "for i  in s:\n",
    "    print(i , end = \" \")"
   ]
  },
  {
   "cell_type": "code",
   "execution_count": 5,
   "id": "821f6ae2-7966-499c-95ea-25ce2dfc8702",
   "metadata": {},
   "outputs": [],
   "source": [
    "# use for loops in a list"
   ]
  },
  {
   "cell_type": "code",
   "execution_count": 6,
   "id": "3bd1ee1c-f951-4b43-9758-6af365488324",
   "metadata": {},
   "outputs": [
    {
     "name": "stdout",
     "output_type": "stream",
     "text": [
      "Java\n",
      "Python\n",
      "Ruby\n",
      "HTML\n"
     ]
    }
   ],
   "source": [
    "programming = [\"Java\", \"Python\",\"Ruby\",\"HTML\"]\n",
    "for items in programming:\n",
    "    print(items)\n"
   ]
  },
  {
   "cell_type": "code",
   "execution_count": 7,
   "id": "d893805b-2955-4e87-af3f-b366e91a4636",
   "metadata": {},
   "outputs": [],
   "source": [
    "#Find the average of a list of numbers"
   ]
  },
  {
   "cell_type": "code",
   "execution_count": 8,
   "id": "0ef5f974-6b16-409b-be5a-d215e5564cf7",
   "metadata": {},
   "outputs": [
    {
     "name": "stdout",
     "output_type": "stream",
     "text": [
      "Sum = 190\n",
      "Average =  38.0\n"
     ]
    }
   ],
   "source": [
    "list_num = [20,15,50,45,60]\n",
    "sum =0\n",
    "for i in list_num:\n",
    "    sum = sum + i\n",
    "print (\"Sum =\", sum)\n",
    "print (\"Average = \" , sum/len(list_num))\n",
    "\n"
   ]
  },
  {
   "cell_type": "code",
   "execution_count": 9,
   "id": "d86f490a-913a-4774-8388-cdd1d45d6c55",
   "metadata": {},
   "outputs": [],
   "source": [
    "# For loop usinga tuple "
   ]
  },
  {
   "cell_type": "code",
   "execution_count": 11,
   "id": "abc152a0-6019-4a52-9c60-a26c885711d6",
   "metadata": {},
   "outputs": [
    {
     "name": "stdout",
     "output_type": "stream",
     "text": [
      "255\n"
     ]
    }
   ],
   "source": [
    "num = (30,45,60,50,70)\n",
    "sum = 0 \n",
    "for i in num :\n",
    "    sum = sum + i\n",
    "print(sum)"
   ]
  },
  {
   "cell_type": "code",
   "execution_count": 12,
   "id": "c6f19e4b-e218-4ff1-8bb6-70a0b4f2bf7d",
   "metadata": {},
   "outputs": [],
   "source": [
    "# Range function in python\n"
   ]
  },
  {
   "cell_type": "code",
   "execution_count": 13,
   "id": "10a95164-0c4b-42c9-ab0b-cadf1aabae29",
   "metadata": {},
   "outputs": [
    {
     "name": "stdout",
     "output_type": "stream",
     "text": [
      "1\n",
      "2\n",
      "3\n",
      "4\n",
      "5\n",
      "6\n",
      "7\n",
      "8\n",
      "9\n"
     ]
    }
   ],
   "source": [
    "for i in range (1,10):\n",
    "    print(i)\n"
   ]
  },
  {
   "cell_type": "code",
   "execution_count": 15,
   "id": "3d5c1669-a711-4b61-96de-004c5ac02d32",
   "metadata": {},
   "outputs": [
    {
     "name": "stdout",
     "output_type": "stream",
     "text": [
      "Display values with a step size of 2: 0\n",
      "Display values with a step size of 2: 2\n",
      "Display values with a step size of 2: 4\n",
      "Display values with a step size of 2: 6\n",
      "Display values with a step size of 2: 8\n"
     ]
    }
   ],
   "source": [
    "for i in range(0,10,2):\n",
    "    print(\"Display values with a step size of 2:\",i)"
   ]
  },
  {
   "cell_type": "code",
   "execution_count": 16,
   "id": "0ce63be1-75aa-4f23-91a4-94826e3d89cd",
   "metadata": {},
   "outputs": [],
   "source": [
    "# Program to print table of a given number"
   ]
  },
  {
   "cell_type": "code",
   "execution_count": 18,
   "id": "d5e404ff-1bf0-46fe-85c9-aeb9cfa9982b",
   "metadata": {},
   "outputs": [
    {
     "name": "stdin",
     "output_type": "stream",
     "text": [
      "Enter the number 5\n"
     ]
    },
    {
     "name": "stdout",
     "output_type": "stream",
     "text": [
      "5 * 1 = 5\n",
      "5 * 2 = 10\n",
      "5 * 3 = 15\n",
      "5 * 4 = 20\n",
      "5 * 5 = 25\n",
      "5 * 6 = 30\n",
      "5 * 7 = 35\n",
      "5 * 8 = 40\n",
      "5 * 9 = 45\n",
      "5 * 10 = 50\n"
     ]
    }
   ],
   "source": [
    "n =int(input(\"Enter the number\"))\n",
    "for i in range (1,11):\n",
    "    mul = n*i\n",
    "    print (n,\"*\",i, \"=\",mul)\n",
    "    "
   ]
  },
  {
   "cell_type": "code",
   "execution_count": 19,
   "id": "9af31e46-125d-44ba-a5dd-321c2bce0466",
   "metadata": {},
   "outputs": [
    {
     "name": "stdout",
     "output_type": "stream",
     "text": [
      "Hello C++\n",
      "Hello Java\n",
      "Hello Python\n",
      "Hello R\n"
     ]
    }
   ],
   "source": [
    "list2 = [\"C++\",\"Java\",\"Python\",\"R\"]\n",
    "for i in range (len(list2)):\n",
    "    print (\"Hello\", list2[i])"
   ]
  },
  {
   "cell_type": "code",
   "execution_count": 20,
   "id": "f091ff9a-d2cc-491b-868c-c07547ac649b",
   "metadata": {},
   "outputs": [],
   "source": [
    "# Nested for loop"
   ]
  },
  {
   "cell_type": "code",
   "execution_count": 23,
   "id": "b8c5d064-3984-4cc7-8dd5-0268d5a5d553",
   "metadata": {},
   "outputs": [
    {
     "name": "stdout",
     "output_type": "stream",
     "text": [
      "We will display each letter of Google\n",
      "G\n",
      "o\n",
      "o\n",
      "g\n",
      "l\n",
      "e\n",
      "We will display each letter of Apple\n",
      "A\n",
      "p\n",
      "p\n",
      "l\n",
      "e\n",
      "We will display each letter of PWC\n",
      "P\n",
      "W\n",
      "C\n",
      "We will display each letter of Uber\n",
      "U\n",
      "b\n",
      "e\n",
      "r\n"
     ]
    }
   ],
   "source": [
    "companies =[\"Google\",\"Apple\",\"PWC\",\"Uber\"]\n",
    "for i in companies:\n",
    "    print (\"We will display each letter of \"+i)\n",
    "    for letter in i:\n",
    "        print(letter)\n",
    "            "
   ]
  },
  {
   "cell_type": "code",
   "execution_count": 24,
   "id": "9038b3b1-e9df-43ea-a76e-99f8b14fd84a",
   "metadata": {},
   "outputs": [],
   "source": [
    " # for loop with else clause"
   ]
  },
  {
   "cell_type": "code",
   "execution_count": 25,
   "id": "3b1969f1-8c0f-4ab9-82a9-399a1ac41ca2",
   "metadata": {},
   "outputs": [
    {
     "name": "stdout",
     "output_type": "stream",
     "text": [
      "0\n",
      "3\n",
      "6\n",
      "9\n",
      "The loop has completed execution\n"
     ]
    }
   ],
   "source": [
    "for i in range (0,10,3):\n",
    "    print(i)\n",
    "else:\n",
    "    print (\"The loop has completed execution\")"
   ]
  },
  {
   "cell_type": "code",
   "execution_count": 26,
   "id": "4df212ac-7392-46c1-9b46-a896b5b3b897",
   "metadata": {},
   "outputs": [
    {
     "name": "stdout",
     "output_type": "stream",
     "text": [
      "1\n",
      "2\n",
      "3\n",
      "4\n",
      "5\n"
     ]
    }
   ],
   "source": [
    "# Break\n",
    "for i in range(1,10):\n",
    "    if (i==6):\n",
    "        break\n",
    "    print(i)\n"
   ]
  },
  {
   "cell_type": "code",
   "execution_count": 27,
   "id": "c09a2a1e-b0dc-4070-afc1-5c117abe4208",
   "metadata": {},
   "outputs": [
    {
     "name": "stdout",
     "output_type": "stream",
     "text": [
      "1\n",
      "2\n",
      "3\n",
      "4\n",
      "5\n",
      "7\n",
      "8\n",
      "9\n"
     ]
    }
   ],
   "source": [
    "#continue\n",
    "for i in range (1,10):\n",
    "    if ( i ==6):\n",
    "        continue #skip\n",
    "    print(i)    "
   ]
  },
  {
   "cell_type": "code",
   "execution_count": 29,
   "id": "345463d1-c63a-4d29-9f6d-5a06605d1454",
   "metadata": {},
   "outputs": [
    {
     "name": "stdout",
     "output_type": "stream",
     "text": [
      "No player with that name found: \n"
     ]
    }
   ],
   "source": [
    "# Program to display the totalsgoals a player has scored\n",
    "player_name = \"Messi\"\n",
    "goals = {\"Edison\": 14,\"Bernat\":3, \"Carmelo\": 7}\n",
    "for player in goals :\n",
    "    if player == player_name:\n",
    "        print(goals[player])\n",
    "        break\n",
    "else:\n",
    "    print (\"No player with that name found: \")\n",
    "    "
   ]
  },
  {
   "cell_type": "code",
   "execution_count": 31,
   "id": "57bf6bc9-299b-4b36-8346-ef20d26db8f5",
   "metadata": {},
   "outputs": [
    {
     "name": "stdout",
     "output_type": "stream",
     "text": [
      "[8, 125, 343, 64, 512, 216]\n"
     ]
    }
   ],
   "source": [
    "# Cube of the nbumber\n",
    "num = [2,5,7,4,8,6]\n",
    "cube = []\n",
    "for i in num:\n",
    "    cube.append(i**3)\n",
    "print(cube)"
   ]
  },
  {
   "cell_type": "code",
   "execution_count": 33,
   "id": "00359395-2abc-4f28-9d31-3d423387e9ae",
   "metadata": {},
   "outputs": [
    {
     "name": "stdin",
     "output_type": "stream",
     "text": [
      "Enter the number of rows 5\n"
     ]
    },
    {
     "name": "stdout",
     "output_type": "stream",
     "text": [
      "*\n",
      "**\n",
      "***\n",
      "****\n",
      "*****\n"
     ]
    }
   ],
   "source": [
    "# Pattern printing\n",
    "n = int(input(\"Enter the number of rows\"))\n",
    "for i in range (0,n):\n",
    "    for j in range(0,i+1):\n",
    "        print(\"*\", end = \"\")\n",
    "    print ()\n",
    "              "
   ]
  },
  {
   "cell_type": "code",
   "execution_count": 34,
   "id": "355d6b05-e604-4939-a22a-e3a709b72c87",
   "metadata": {},
   "outputs": [
    {
     "data": {
      "text/plain": [
       "range(0, 6)"
      ]
     },
     "execution_count": 34,
     "metadata": {},
     "output_type": "execute_result"
    }
   ],
   "source": [
    "range(6)"
   ]
  },
  {
   "cell_type": "code",
   "execution_count": 35,
   "id": "b1693f1c-e284-4054-bdfc-2fe5a95d456e",
   "metadata": {},
   "outputs": [
    {
     "name": "stdout",
     "output_type": "stream",
     "text": [
      "range(0, 6)\n"
     ]
    }
   ],
   "source": [
    "print(range(6))"
   ]
  },
  {
   "cell_type": "code",
   "execution_count": 36,
   "id": "77a9b763-d6d7-47d2-990a-5e4c98945f5a",
   "metadata": {},
   "outputs": [
    {
     "data": {
      "text/plain": [
       "range(0, 6)"
      ]
     },
     "execution_count": 36,
     "metadata": {},
     "output_type": "execute_result"
    }
   ],
   "source": [
    "range(6)"
   ]
  },
  {
   "cell_type": "code",
   "execution_count": 37,
   "id": "ce2c10fb-3f40-4799-ab25-bf6d0bd87da5",
   "metadata": {},
   "outputs": [
    {
     "name": "stdout",
     "output_type": "stream",
     "text": [
      "<class 'range'>\n"
     ]
    }
   ],
   "source": [
    "print(range)"
   ]
  },
  {
   "cell_type": "code",
   "execution_count": 38,
   "id": "5dd93608-e97f-422a-b76a-97dc9d024803",
   "metadata": {},
   "outputs": [
    {
     "name": "stdout",
     "output_type": "stream",
     "text": [
      "0\n",
      "1\n",
      "2\n",
      "3\n",
      "4\n"
     ]
    }
   ],
   "source": [
    "for i in range(5):\n",
    "    print (i)"
   ]
  },
  {
   "cell_type": "code",
   "execution_count": 39,
   "id": "c868a8d3-cf8f-4fe9-b895-c255f538cdc5",
   "metadata": {},
   "outputs": [
    {
     "name": "stdout",
     "output_type": "stream",
     "text": [
      "45\n"
     ]
    }
   ],
   "source": [
    "sum = 0\n",
    "for i in range (10):\n",
    "    sum = sum+i\n",
    "print(sum)    \n",
    "    "
   ]
  },
  {
   "cell_type": "code",
   "execution_count": 40,
   "id": "967fa5b6-9fc7-4f0c-9229-d3dd9c260984",
   "metadata": {},
   "outputs": [],
   "source": [
    "# Jenny Lectures\n",
    "# Syntax\n",
    "# for var_name in sequence: \n",
    "#    statements"
   ]
  },
  {
   "cell_type": "code",
   "execution_count": 42,
   "id": "695cf1c8-b9a1-46bf-881a-8e974cd8ce54",
   "metadata": {},
   "outputs": [
    {
     "name": "stdout",
     "output_type": "stream",
     "text": [
      "Bishwas\n",
      "Mandira\n",
      "Anika\n"
     ]
    }
   ],
   "source": [
    "name = [\"Bishwas\",\"Mandira\",\"Anika\"]\n",
    "for i in name:\n",
    "    print(i)"
   ]
  },
  {
   "cell_type": "code",
   "execution_count": 49,
   "id": "30705582-fc97-4e89-a4c7-7e5b3bdde2be",
   "metadata": {},
   "outputs": [
    {
     "name": "stdout",
     "output_type": "stream",
     "text": [
      "The list of squares is :  [4, 9, 25, 4, 100]\n"
     ]
    }
   ],
   "source": [
    "numbers = [2,3,5,-2,10]\n",
    "squares=[]\n",
    "for i in numbers:\n",
    "    square = i**2\n",
    "    squares.append(square)\n",
    "print(\"The list of squares is : \" , squares)"
   ]
  },
  {
   "cell_type": "code",
   "execution_count": 50,
   "id": "e60d31a8-9999-4930-ba94-be299a71db8c",
   "metadata": {},
   "outputs": [],
   "source": [
    "# for else\n",
    "#Syntax\n",
    "# for var_name in sequence :\n",
    "#     statement(s)\n",
    "# else:\n",
    "#    statement(s)"
   ]
  },
  {
   "cell_type": "code",
   "execution_count": 53,
   "id": "ceff00f4-f0ea-49a2-bc1b-b74023db3423",
   "metadata": {},
   "outputs": [
    {
     "name": "stdout",
     "output_type": "stream",
     "text": [
      "2\n",
      "3\n",
      "5\n",
      "-1\n",
      "0\n"
     ]
    }
   ],
   "source": [
    "numbers =[2,3,5,-1,0,53]\n",
    "for i in numbers:\n",
    "    print(i)\n",
    "    if i ==0:\n",
    "        break\n",
    "    \n",
    "else:\n",
    "    print (\"Successfully completed\")"
   ]
  },
  {
   "cell_type": "code",
   "execution_count": null,
   "id": "5bd887c8-bbe0-466e-985a-34474c8a0018",
   "metadata": {},
   "outputs": [],
   "source": []
  }
 ],
 "metadata": {
  "kernelspec": {
   "display_name": "Python 3 (ipykernel)",
   "language": "python",
   "name": "python3"
  },
  "language_info": {
   "codemirror_mode": {
    "name": "ipython",
    "version": 3
   },
   "file_extension": ".py",
   "mimetype": "text/x-python",
   "name": "python",
   "nbconvert_exporter": "python",
   "pygments_lexer": "ipython3",
   "version": "3.11.7"
  }
 },
 "nbformat": 4,
 "nbformat_minor": 5
}
